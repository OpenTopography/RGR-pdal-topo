{
 "cells": [
  {
   "cell_type": "code",
   "execution_count": 1,
   "id": "29271005",
   "metadata": {},
   "outputs": [
    {
     "name": "stdout",
     "output_type": "stream",
     "text": [
      "/workspaces/rgr/src\n"
     ]
    }
   ],
   "source": [
    "#Maddie Schwarz 11/3/22 -- updated 2/23/22\n",
    "# projecting GPS profiles collected in Sangres to lines for scarp measuring\n",
    "\n",
    "import sys\n",
    "import os\n",
    "sys.path.append('Modules/demCreationComponents/')\n",
    "\n",
    "import pointCloudCreation as pCC\n",
    "\n",
    "from matplotlib import pyplot as plt\n",
    "import numpy as np\n",
    "\n",
    "from importlib import reload\n",
    "import geopandas as gpd\n",
    "import pandas as pd\n",
    "from shapely.geometry import LineString, Point\n",
    "%matplotlib inline\n",
    "%matplotlib widget\n",
    "print(os.getcwd())"
   ]
  },
  {
   "cell_type": "markdown",
   "id": "a4255b7b",
   "metadata": {},
   "source": [
    "## Project GPS Data to a line"
   ]
  },
  {
   "cell_type": "code",
   "execution_count": 2,
   "id": "4f0da8a6",
   "metadata": {},
   "outputs": [
    {
     "name": "stdout",
     "output_type": "stream",
     "text": [
      "geo7x_sangres_all_shp/Point_Proj.shp\n",
      "Index(['Name', 'Descriptio', 'Layer', 'FeatureCod', 'Easting', 'Northing',\n",
      "       'Elevation', 'GlobalLati', 'GlobalLong', 'GlobalElli', 'LocalLatit',\n",
      "       'LocalLongi', 'LocalEllip', 'H_Prec_Obs', 'V_Prec_Obs', 'Date_Obs',\n",
      "       'Time_Obs', 'Site', 'geometry'],\n",
      "      dtype='object')\n",
      "epsg:32613\n",
      "['3' '4' '5' ... '1095' '1096' 'RG23']\n"
     ]
    }
   ],
   "source": [
    "#path to GPS shapefile\n",
    "                        # folder name              #shp with gps points \n",
    "#pathToGPS = os.path.join('geo7x_sangres_all_shp', 'geo7x_gps_merg.shp') # see cell In [85] for notes\n",
    "pathToGPS = os.path.join('geo7x_sangres_all_shp', 'Point_Proj.shp')\n",
    "print(pathToGPS)\n",
    "#read shp w/geopandas\n",
    "gps_GDF = gpd.read_file(pathToGPS)\n",
    "print(gps_GDF.columns) \n",
    "print(gps_GDF.crs)\n",
    "print(gps_GDF['Name'].unique())"
   ]
  },
  {
   "cell_type": "code",
   "execution_count": 3,
   "id": "190f1603",
   "metadata": {},
   "outputs": [
    {
     "data": {
      "text/plain": [
       "array(['Graben Upper', 'Graben Lower', 'Pinon', 'Tobin',\n",
       "       'SZ SingleStrand', 'SZ MultiStrand', 'CORRS Station(?)'],\n",
       "      dtype=object)"
      ]
     },
     "execution_count": 3,
     "metadata": {},
     "output_type": "execute_result"
    }
   ],
   "source": [
    "gps_GDF['Site'].unique()"
   ]
  },
  {
   "cell_type": "code",
   "execution_count": 4,
   "metadata": {},
   "outputs": [],
   "source": [
    "# new dataFrames for each GPS survey\n",
    "mask_Tobin_GPS = gps_GDF['Site'] == 'Tobin'\n",
    "mask_SZsingle_GPS = gps_GDF['Site'] == 'SZ SingleStrand'\n",
    "mask_SZmulti_GPS = gps_GDF['Site'] == 'SZ MultiStrand'\n",
    "mask_Pinon_GPS = gps_GDF['Site'] == 'Pinon'\n",
    "mask_GrabenU_GPS = gps_GDF['Site'] == 'Graben Upper'\n",
    "mask_GrabenL_GPS = gps_GDF['Site'] == 'Graben Lower'\n",
    "\n",
    "Tobin_GPS = gpd.GeoDataFrame(gps_GDF[mask_Tobin_GPS])\n",
    "SZ_single_GPS = gpd.GeoDataFrame(gps_GDF[mask_SZsingle_GPS])\n",
    "SZ_multi_GPS = gpd.GeoDataFrame(gps_GDF[mask_SZmulti_GPS])\n",
    "Pinon_GPS = gpd.GeoDataFrame(gps_GDF[mask_Pinon_GPS])\n",
    "GrabenU_GPS = gpd.GeoDataFrame(gps_GDF[mask_GrabenU_GPS])\n",
    "GrabenL_GPS = gpd.GeoDataFrame(gps_GDF[mask_GrabenL_GPS])"
   ]
  },
  {
   "cell_type": "code",
   "execution_count": 7,
   "id": "ede27c21",
   "metadata": {},
   "outputs": [
    {
     "name": "stdout",
     "output_type": "stream",
     "text": [
      "<bound method NDFrame.head of    Id             Name                                           geometry\n",
      "0   0  SZ SingleStrand  LINESTRING (449301.370 4164131.198, 449270.694...\n",
      "1   0   SZ MultiStrand  LINESTRING (449269.303 4163978.344, 449179.713...\n",
      "2   0            Pinon  LINESTRING (454362.970 4174234.724, 454352.993...\n",
      "3   0     Graben Upper  LINESTRING (455269.565 4175002.098, 455213.286...\n",
      "4   0     Graben Lower  LINESTRING (455134.664 4174991.007, 455076.495...\n",
      "5   0            Tobin  LINESTRING (452211.741 4155195.776, 452150.596...>\n",
      "epsg:32613\n",
      "\n"
     ]
    }
   ],
   "source": [
    "# open shp of profile line (to project points onto)\n",
    "pathToLine = os.path.join('profiles_for_project', 'profiles_for_project.shp')\n",
    "line_GDF = gpd.read_file(pathToLine)\n",
    "\n",
    "print(line_GDF.head)\n",
    "print(line_GDF.crs)\n",
    "\n",
    "#line_GDF.plot()"
   ]
  },
  {
   "attachments": {},
   "cell_type": "markdown",
   "id": "10b7892f",
   "metadata": {},
   "source": [
    "Split Profile Line DF by Site"
   ]
  },
  {
   "cell_type": "code",
   "execution_count": 28,
   "id": "e28d7494",
   "metadata": {},
   "outputs": [],
   "source": [
    "# Create new DFs for each Location's profile projection line\n",
    "mask_Tobin_Line = line_GDF['Name'] == 'Tobin'\n",
    "mask_SZsingle_Line = line_GDF['Name'] == 'SZ SingleStrand'\n",
    "mask_SZmulti_Line = line_GDF['Name'] == 'SZ MultiStrand'\n",
    "mask_Pinon_Line = line_GDF['Name'] == 'Pinon'\n",
    "mask_GrabenU_Line = line_GDF['Name'] == 'Graben Upper'\n",
    "mask_GrabenL_Line = line_GDF['Name'] == 'Graben Lower'\n",
    "\n",
    "# new gp dataframe of just specific mapunit\n",
    "Tobin_Line = gpd.GeoDataFrame(line_GDF[mask_Tobin_Line])\n",
    "SZ_single_Line = gpd.GeoDataFrame(line_GDF[mask_SZsingle_Line])\n",
    "SZ_multi_Line = gpd.GeoDataFrame(line_GDF[mask_SZmulti_Line])\n",
    "Pinon_Line = gpd.GeoDataFrame(line_GDF[mask_Pinon_Line])\n",
    "\n",
    "#Graben lines are separate; mask both, then combine w/ pandas concat\n",
    "GrabenU_Line = gpd.GeoDataFrame(line_GDF[mask_GrabenU_Line])\n",
    "GrabenL_Line = gpd.GeoDataFrame(line_GDF[mask_GrabenL_Line])"
   ]
  },
  {
   "attachments": {},
   "cell_type": "markdown",
   "id": "6f5d7cfa",
   "metadata": {},
   "source": [
    "## Graben Study Site\n"
   ]
  },
  {
   "attachments": {},
   "cell_type": "markdown",
   "id": "aea759f4",
   "metadata": {},
   "source": [
    "Upper Graben"
   ]
  },
  {
   "cell_type": "code",
   "execution_count": null,
   "id": "3a7acd71",
   "metadata": {},
   "outputs": [],
   "source": []
  },
  {
   "attachments": {},
   "cell_type": "markdown",
   "id": "6782e1f8",
   "metadata": {},
   "source": [
    "Lower Graben"
   ]
  },
  {
   "attachments": {},
   "cell_type": "markdown",
   "id": "5b60bfaf",
   "metadata": {},
   "source": [
    "## Pinon Study Site"
   ]
  },
  {
   "cell_type": "code",
   "execution_count": 29,
   "id": "a7627ae1",
   "metadata": {},
   "outputs": [
    {
     "data": {
      "image/png": "[encoded data removed]",
      "text/plain": [
       "<Figure size 640x480 with 1 Axes>"
      ]
     },
     "metadata": {},
     "output_type": "display_data"
    }
   ],
   "source": [
    "# Plot Profile Line & GPS Points\n",
    "f, ax = plt.subplots()\n",
    "# tract_data.to_crs(house_data.crs).plot(ax=ax)\n",
    "# house_data.plot(ax=ax)\n",
    "Pinon_Line.plot(ax=ax)\n",
    "Pinon_GPS.plot(ax=ax,color = 'red')\n",
    "plt.show()\n",
    "#455269.4125 4175006.85 "
   ]
  },
  {
   "attachments": {},
   "cell_type": "markdown",
   "id": "11fdb749",
   "metadata": {},
   "source": [
    "Pinon GPS Profile"
   ]
  },
  {
   "cell_type": "code",
   "execution_count": 30,
   "id": "dd4fc6ef",
   "metadata": {},
   "outputs": [
    {
     "name": "stdout",
     "output_type": "stream",
     "text": [
      "0.0\n"
     ]
    }
   ],
   "source": [
    "# Convert geometries to np arrays\n",
    "x,y = Pinon_GPS.geometry.x,Pinon_GPS.geometry.y\n",
    "PointsXY = [np.array(t) for t in zip(x,y)]\n",
    "\n",
    "xL,yL = Pinon_Line.geometry[Pinon_Line.geometry.index[0]].xy\n",
    "LineXY = [np.array(t) for t in zip(x,y)]\n",
    "\n",
    "#compare line & point locations to check placement\n",
    "print(np.sum((LineXY[0] - PointsXY[0])**2))\n",
    "\n",
    "Pin_proj_dist,Pin_profile_dist = pCC.projectPointsOntoLine(LineXY, PointsXY) \n",
    "\n",
    "%matplotlib inline\n",
    "plt.scatter(Pin_profile_dist,Pinon_GPS['Elevation'])\n"
   ]
  },
  {
   "attachments": {},
   "cell_type": "markdown",
   "id": "1d781d39",
   "metadata": {},
   "source": [
    "Pinon lidar Profile"
   ]
  },
  {
   "cell_type": "code",
   "execution_count": 38,
   "id": "d0600606",
   "metadata": {},
   "outputs": [
    {
     "name": "stdout",
     "output_type": "stream",
     "text": [
      "number of profiles to generate:  1\n",
      "LINESTRING (454362.97003663145 4174234.723856602, 454352.9929592293 4174234.496761827, 454352.51412722137 4174234.5319384825, 454351.97753527877 4174234.5069124536, 454351.2515483414 4174234.474762223, 454350.3553524322 4174234.4819503333, 454349.6396719031 4174234.49701285, 454340.5139497537 4174233.192930814, 454334.105227828 4174233.49249216, 454330.7117704544 4174233.14510745)\n"
     ]
    },
    {
     "data": {
      "image/png": "[encoded data removed]",
      "text/plain": [
       "<Figure size 640x480 with 1 Axes>"
      ]
     },
     "metadata": {},
     "output_type": "display_data"
    }
   ],
   "source": [
    "## LIDAR data\n",
    "## path to Lidar\n",
    "usgs_survey_name = 'CO_San-Luis-Valley_2011'\n",
    "## Project lidar points to projected line (from gps step above)\n",
    "nProfiles = 1 #Number of profiles we will construct\n",
    "print('number of profiles to generate: ', nProfiles)\n",
    "outEPSG = 32613\n",
    "swathWidth = 3.0 #How wide is each swath\n",
    "plotInterval = 5 #Plot every nth pointcloud point (reduces figure complexity)\n",
    "\n",
    "for i in range(nProfiles):\n",
    "    \n",
    "    profLine = line_GDF.geometry[2]\n",
    "    print(profLine)\n",
    "    \n",
    "    #Execute the pipeline\n",
    "    pipe = pCC.get_swathprofile_request_pointcloud(profLine,swathWidth,outEPSG,\n",
    "                                                             usgs_survey_name,\n",
    "                                                             'profileTest',doSavePointCloud=False,\n",
    "                                                            doReclassify = True)\n",
    "    #Get the relevant data from the pipeline\n",
    "    arrays = pipe.arrays[0]\n",
    "    profileLength = np.max(arrays['L'])\n",
    "    L = np.array(arrays['L']) #- profileLength/2\n",
    "    Z = np.array(arrays['Z'])\n",
    "    C = np.array(arrays['Classification'])\n",
    "    D = np.array(arrays['D'])\n",
    "    X = np.array(arrays['X'])\n",
    "    Y = np.array(arrays['Y'])\n",
    "    \n",
    "    #Which points are ground:\n",
    "    isGrnd = C == 2\n",
    "    \n",
    "    #Plot the result\n",
    "    plt.plot(L[~isGrnd][::plotInterval],Z[~isGrnd][::plotInterval],'.',color = 'darkgreen',alpha =0.5) # plants/noise -- not ground\n",
    "    plt.plot(L[isGrnd][::plotInterval],Z[isGrnd][::plotInterval],'.',color = 'k',alpha =1)\n",
    "    \n",
    "    #axs[i].legend(fontsize = 'x-small')\n",
    "    #axs[i].set_title(fsGDF['Name'][i])"
   ]
  },
  {
   "cell_type": "code",
   "execution_count": 36,
   "id": "47c66e27",
   "metadata": {},
   "outputs": [
    {
     "data": {
      "text/plain": [
       "[<matplotlib.lines.Line2D at 0x7f6d1a6dbc10>]"
      ]
     },
     "execution_count": 36,
     "metadata": {},
     "output_type": "execute_result"
    },
    {
     "data": {
      "image/png": "[encoded data removed]",
      "text/plain": [
       "<Figure size 640x480 with 1 Axes>"
      ]
     },
     "metadata": {},
     "output_type": "display_data"
    }
   ],
   "source": [
    "plt.plot(Pin_profile_dist,Pinon_GPS['Elevation'], '.',color = 'r', alpha = 1)\n",
    "plt.plot(L[isGrnd][::plotInterval],Z[isGrnd][::plotInterval],'.',color = 'k',alpha =1)"
   ]
  },
  {
   "cell_type": "code",
   "execution_count": null,
   "id": "4a8344d2",
   "metadata": {},
   "outputs": [],
   "source": []
  }
 ],
 "metadata": {
  "kernelspec": {
   "display_name": "base",
   "language": "python",
   "name": "python3"
  },
  "language_info": {
   "codemirror_mode": {
    "name": "ipython",
    "version": 3
   },
   "file_extension": ".py",
   "mimetype": "text/x-python",
   "name": "python",
   "nbconvert_exporter": "python",
   "pygments_lexer": "ipython3",
   "version": "3.10.8"
  },
  "vscode": {
   "interpreter": {
    "hash": "d4d1e4263499bec80672ea0156c357c1ee493ec2b1c70f0acce89fc37c4a6abe"
   }
  }
 },
 "nbformat": 4,
 "nbformat_minor": 5
}
